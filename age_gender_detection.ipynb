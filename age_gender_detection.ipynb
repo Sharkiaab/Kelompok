{
  "cells": [
    {
      "cell_type": "markdown",
      "metadata": {
        "id": "OYnneh1YM2vR"
      },
      "source": [
        "## Age and Gender Detection System."
      ]
    },
    {
      "cell_type": "markdown",
      "metadata": {
        "id": "8je0J1uhNGnC"
      },
      "source": [
        "### In this project, we will be performing both classification and regression to predict both gender and age respectively."
      ]
    },
    {
      "cell_type": "code",
      "execution_count": 40,
      "metadata": {
        "id": "ieCRR3_-JfJz"
      },
      "outputs": [],
      "source": [
        "# Import necessary modules first.\n",
        "import tensorflow as tf\n",
        "from tensorflow.keras.utils import load_img\n",
        "from keras.models import Sequential, Model\n",
        "from keras.layers import Dense, Conv2D, Dropout, Flatten, MaxPooling2D, Input\n",
        "import numpy as np\n",
        "import random\n",
        "import matplotlib.pyplot as plt\n",
        "import os\n",
        "import seaborn as sns\n",
        "import warnings\n",
        "from tqdm.notebook import tqdm\n",
        "warnings.filterwarnings('ignore')\n",
        "%matplotlib inline"
      ]
    },
    {
      "cell_type": "markdown",
      "metadata": {
        "id": "t8CG7u-RNWL_"
      },
      "source": [
        "## Load the dataset"
      ]
    },
    {
      "cell_type": "code",
      "execution_count": 41,
      "metadata": {
        "colab": {
          "base_uri": "https://localhost:8080/"
        },
        "id": "XqOsd7gRNZTv",
        "outputId": "838840ec-618b-48d7-aa37-6b15f4b47a0a"
      },
      "outputs": [
        {
          "output_type": "stream",
          "name": "stdout",
          "text": [
            "Drive already mounted at /content/drive; to attempt to forcibly remount, call drive.mount(\"/content/drive\", force_remount=True).\n",
            "/content/drive/MyDrive/datasett/perempuan\n"
          ]
        }
      ],
      "source": [
        "from google.colab import drive\n",
        "drive.mount('/content/drive')\n",
        "%cd '/content/drive/MyDrive/datasett/perempuan'"
      ]
    },
    {
      "cell_type": "code",
      "execution_count": 42,
      "metadata": {
        "id": "4zlFJCehnFn1"
      },
      "outputs": [],
      "source": [
        "BASE_DIR = '/content/drive/MyDrive/datasett/perempuan'\n",
        "age_labels = []\n",
        "gender_labels = []\n",
        "image_paths = []"
      ]
    },
    {
      "cell_type": "code",
      "source": [
        "!ls\n",
        "!pwd"
      ],
      "metadata": {
        "colab": {
          "base_uri": "https://localhost:8080/"
        },
        "id": "AndTCGli00rx",
        "outputId": "9dcc3bcd-d807-4087-9923-8aeab3ada626"
      },
      "execution_count": 43,
      "outputs": [
        {
          "output_type": "stream",
          "name": "stdout",
          "text": [
            " 100.jpg    168.jpg\t    251.jpg\t 332.jpg     41.webp\t   504.PNG\n",
            " 101.jpg    169.jpg\t    252.jpg\t 333.jpg     420.jpg\t   505.jpeg\n",
            " 102.jpg    16.jpg\t    253.jpg\t 334.jpg     421.jpg\t   506.jpeg\n",
            " 102.webp   16.webp\t    254.jpg\t 335.jpg     422.jpg\t   507.jpeg\n",
            " 103.jpg    170.jpg\t    254.PNG\t 336.jpg     423.jpg\t   508.jpeg\n",
            " 103.webp   171.jpg\t    255.JPG\t 337.jpg     424.jpg\t   509.PNG\n",
            " 104.jpg    172.png\t    256.jpg\t 338.jpg     425.jpg\t   50.jpg\n",
            " 104.webp   173.JPG\t    257.jpg\t 339.jpg     426.jpg\t   510.jpeg\n",
            " 105.jpg    174.PNG\t    258.jpg\t 33.JPG      427.PNG\t   511.jpg\n",
            " 105.webp   175.jpg\t    259.jpg\t 33.webp     428.jpeg\t   512.jpg\n",
            " 106.jpg    176.PNG\t    25.jpg\t 341.jpg     428.PNG\t   51.jpg\n",
            " 106.webp   177.jpg\t    25.JPG\t 345.jpeg    429.PNG\t   52.jpg\n",
            " 107.jpg    178.jpg\t    260.PNG\t 345.jpg     42.jpg\t   53.jpg\n",
            " 107.webp   179.jpg\t    261.jpg\t 346.jpg     42.webp\t   53.PNG\n",
            " 108.jpg    17.jpg\t    261.png\t 347.jpg     430.jpeg\t   54.jpg\n",
            " 108.webp   17.webp\t    262.PNG\t 348.jpg     431.jpeg\t   54.JPG\n",
            " 109.jpg    180.PNG\t    263.PNG\t 349.jpg     431.png\t   55.jpg\n",
            " 109.png    181.jpg\t    264.PNG\t 34.JPG      432.jpg\t   56.jpg\n",
            " 10.JPG     182.jpg\t    265.PNG\t 34.webp     434.jpeg\t   56.JPG\n",
            " 10.webp    184.jpg\t    266.PNG\t 350.jpg     435.png\t   57.jpeg\n",
            " 110.jpg    185.jpeg\t    267.PNG\t 351.jpg     436.png\t   57.webp\n",
            " 110.webp   186.PNG\t    268.jpg\t 352.jpeg    437.png\t   58.jpg\n",
            " 111.PNG    187.jpg\t    269.PNG\t 353.jpg     438.png\t   58.webp\n",
            " 111.webp   18.webp\t    26.jpg\t 354.jpg     439.png\t   59.jpg\n",
            " 112.jpg    191.PNG\t    270.PNG\t 355.JPG     43.heic\t   59.webp\n",
            " 113.jpg    192.jpg\t    271.JPG\t 356.jpg     43.webp\t   5.jpg\n",
            " 114.jpg    193.PNG\t    272.jpg\t 357.jpg     442.jpg\t   5.jpg.jpg\n",
            " 114.webp   195.jpg\t    273.jpg\t 358.jpg     443.jpg\t   60.jpeg\n",
            " 115.jpg    196.jpg\t    274.jpg\t 359.jpg     444.jpeg\t   60.webp\n",
            " 115.webp   197.jpg\t    275.PNG\t 35.jpg      445.jpg\t   61.jpeg\n",
            " 116.jpg    198.jpg\t    276.PNG\t 35.webp     446.jpg\t   61.webp\n",
            " 116.webp   199.jpg\t    277.PNG\t 360.jpg     447.PNG\t   62.jpg\n",
            " 117.jpg    19.jpg\t    278.PNG\t 361.jpg     448.PNG\t   62.webp\n",
            " 117.webp   19.webp\t    279.PNG\t 362.jpg     449.PNG\t   63.JPG\n",
            " 118.jpg    1.jpg\t    27.jpg\t 363.jpg     44.jpeg\t   63.webp\n",
            " 118.webp   1.jpg.heic\t    280.PNG\t 364.jpg     44.webp\t   64.JPG\n",
            " 119.png    200.jpg\t    281.PNG\t 365.jpg     450.PNG\t   64.webp\n",
            " 119.webp   201.jpg\t    282.PNG\t 367.jpg     451.jpg\t   65.jpg\n",
            " 11.jpg     202.jpg\t    283.PNG\t 368.jpg     452.jpg\t   65.webp\n",
            " 11.webp    203.jpg\t    284.PNG\t 369.jpg     453.jpg\t   66.jpg\n",
            " 120.jpg    207.jpg\t    285.PNG\t 36.JPG      454.PNG\t   66.webp\n",
            " 120.webp   208.jpg\t    286.PNG\t 36.webp     455.png\t   67.jpg\n",
            " 121.jpg   '209 (1).heic'   287.PNG\t 370.jpg     456.png\t   67.webp\n",
            " 121.webp   209.heic\t    288.PNG\t 371.jpg     457.png\t   68.jpg\n",
            " 122.jpg    20.jpg\t    289.PNG\t 372.jpeg    458.png\t   68.JPG\n",
            " 122.webp   20.webp\t    28.jpg\t 373.jpg     459.png\t   69.jpg\n",
            " 123.jpg   '210 (1).jpg'    28.JPG\t 374.jpg     45.jpg\t   69.JPG\n",
            " 124.jpg    210.jpg\t    290.PNG\t 375.jpg     45.webp\t   6.jpg\n",
            " 125.jpg   '211 (1).jpg'    291.PNG\t 376.jpg     460.jpg\t   6.JPG\n",
            " 126.jpg    211.jpg\t    292.PNG\t 378.jpeg    461.jpg\t   70.heic\n",
            " 127.png   '212 (1).jpg'    293.PNG\t 379.jpeg    462.jpg\t   70.JPG\n",
            " 128.jpeg   212.jpg\t    294.PNG\t 37.PNG      463.PNG\t   71.jpg\n",
            " 129.jpg    216.jpg\t    295.PNG\t 37.webp     464.PNG\t   71.JPG\n",
            " 12.JPG     218.jpg\t    296.PNG\t 380.JPG     465.png\t   72.jpg\n",
            " 12.webp    219.jpg\t    297.PNG\t 381.jpg     467.png\t   72.JPG\n",
            " 130.jpg    21.jpg\t    298.PNG\t 382.jpg     468.JPG\t   73.jpg\n",
            " 131.jpg    21.webp\t    299.PNG\t 383.jpg     469.jpeg\t   74.jpg\n",
            " 132.jpg    220.jpg\t    29.jpg\t 384.jpg     46.jpg.jpeg   75.jpg\n",
            " 132.PNG    221.jpg\t    29.JPG\t 385.jpg     46.webp\t   76.jpg\n",
            " 133.png    222.jpg\t    2.jpg.jpeg\t 386.jpg     470.jpeg\t   77.jpg\n",
            " 135.JPG    223.jpg\t    2.webp\t 387.jpeg    471.PNG\t   78.jpg\n",
            " 136.jpg    224.jpg\t    300.PNG\t 388.PNG     472.jpeg\t   79.jpg\n",
            " 137.jpg    225.jpg\t    301.PNG\t 389.jpg     473.jpeg\t   7.webp\n",
            " 138.jpg    226.jpg\t    302.PNG\t 38.jpg      474.jpeg\t   80.jpg\n",
            " 139.jpg    227.jpg\t    304.PNG\t 38.webp     475.jpeg\t   81.jpg\n",
            " 13.JPG     228.jpg\t    306.jpg\t 390.jpg     476.jpg\t   82.jpg\n",
            " 13.webp    229.jpeg\t    307.jpeg\t 391.jpg     477.png\t   82.webp\n",
            " 140.jpg    229.jpg\t    308.PNG\t 392.jpg     479.PNG\t   83.jpg\n",
            " 141.jpg    22.jpg\t    309.PNG\t 393.jpg     47.PNG\t   83.webp\n",
            " 142.PNG    22.webp\t    30.jpg\t 394.jpeg    47.webp\t   84.jpg\n",
            " 143.png    230.jpeg\t    30.JPG\t 395.jpg     480.jpeg\t   84.webp\n",
            " 144.jpg    230.jpg\t    310.PNG\t 397.jpg     481.jpeg\t   85.jpg\n",
            " 145.jpg    231.jpeg\t    311.PNG\t 398.jpg     482.jpeg\t   85.webp\n",
            " 146.jpg    231.jpg\t    312.PNG\t 399.jpeg    483.jpg\t   86.JPG\n",
            " 147.jpg   '232 (1).jpg'    313.PNG\t 39.jpg      484.jpeg\t   86.webp\n",
            " 148.jpg    232.jpg\t    314.PNG\t 39.webp     485.jpeg\t   87.jpg\n",
            " 149.jpg    233.jpg\t    315.PNG\t 3.jpg.jpg   486.jpeg\t   87.webp\n",
            " 14.webp    234.jpg\t    316.PNG\t 3.webp      487.jpeg\t   88.jpg\n",
            " 150.jpg   '235 (1).jpg'    317.PNG\t 400.jpg     488.jpg\t   88.webp\n",
            " 151.jpg    235.jpg\t    318.PNG\t 401.PNG     489.jpeg\t   89.jpg\n",
            " 152.jpg    236.jpg\t    319.PNG\t 402.jpeg    48.jpg\t   8.JPG\n",
            " 153.jpg    238.jpg\t    31.JPG\t 405.jpg     48.webp\t   8.webp\n",
            " 154.jpg    239.jpg\t    31.webp\t 406.jpg     490.jpeg\t   90.jpg\n",
            " 155.jpg    23.jpg\t    320.PNG\t 407.jpg     491.jpg\t   91.jpg\n",
            " 156.jpg    23.webp\t    321.PNG\t 408.jpeg    493.png\t   92.jpg\n",
            " 157.jpg    240.jpg\t    322.PNG\t 409.PNG     496.jpeg\t   93.jpg\n",
            " 158.jpg    241.jpg\t    323.png\t 40.jpg      497.jpeg\t   94.jpg\n",
            " 159.jpg    242.jpg\t    324.jpg\t 40.webp     498.jpg\t   95.jpg\n",
            " 15.JPG     244.jpeg\t    325.jpg\t 411.jpg     499.jpeg\t   96.jpg\n",
            " 15.webp    245.jpg\t    326.jpeg\t 412.jpg     49.jpg\t   97.jpg\n",
            " 160.jpg    246.jpeg\t    327.jpg\t 413.jpg     49.jpg.PNG    97.PNG\n",
            " 161.png    247.jpeg\t    328.jpeg\t 415.jpg     4.jpg\t   98.jpg\n",
            " 162.jpg    248.jpeg\t    329.jpg\t 416.jpg     4.jpg.jpg\t   99.jpg\n",
            " 163.PNG    249.jpeg\t    32.JPG\t 417.jpeg    500.jpeg\t   9.jpg\n",
            " 164.jpg    24.JPG\t    32.webp\t 418.jpg     501.jpg\t   9.webp\n",
            " 165.jpeg   24.webp\t    330.jpg\t 419.jpg     502.jpeg\n",
            " 167.png    250.jpeg\t    331.jpg\t 41.jpg      503.png\n",
            "/content/drive/MyDrive/datasett/perempuan\n"
          ]
        }
      ]
    },
    {
      "cell_type": "code",
      "source": [
        "for filename in tqdm (os.listdir(BASE_DIR)):\n",
        "  image_path = os.path.join(BASE_DIR, filename)\n",
        "  temp = filename.split('_')\n",
        "  age = int(temp[0])\n",
        "  gender = int(temp[1])\n",
        "  image_paths.append(image_path)\n",
        "  age.labels.append(age)\n",
        "  gender_labels.append(gender)"
      ],
      "metadata": {
        "colab": {
          "base_uri": "https://localhost:8080/",
          "height": 267,
          "referenced_widgets": [
            "ed4efe83d9894e0d8dbf02567fba2774",
            "af4ef94f48f04bdfa50446ef81fe776b",
            "eb5efccb5da94fb78a114c92716472d3",
            "a9ca9a9a1d4a499182f28f0160128b56",
            "479f8e2293f9413a806cf943dfae1af9",
            "52ea9f172fd04f64a1d788bfd383c0ef",
            "2901e842af4a4516bd84b31c8469268d",
            "6ee742a8d21540858c983e0bf72a8032",
            "2de333a6462348a0aee8a8977187fcf1",
            "9f03d19bef0640df8694b7bd80939df4",
            "6205a2de5f7b442f88dfd370d7e7af97"
          ]
        },
        "id": "WsoPa7pznGun",
        "outputId": "f723595c-25e7-47c6-8303-8de716590db2"
      },
      "execution_count": 44,
      "outputs": [
        {
          "output_type": "display_data",
          "data": {
            "text/plain": [
              "  0%|          | 0/580 [00:00<?, ?it/s]"
            ],
            "application/vnd.jupyter.widget-view+json": {
              "version_major": 2,
              "version_minor": 0,
              "model_id": "ed4efe83d9894e0d8dbf02567fba2774"
            }
          },
          "metadata": {}
        },
        {
          "output_type": "error",
          "ename": "ValueError",
          "evalue": "ignored",
          "traceback": [
            "\u001b[0;31m---------------------------------------------------------------------------\u001b[0m",
            "\u001b[0;31mValueError\u001b[0m                                Traceback (most recent call last)",
            "\u001b[0;32m<ipython-input-44-167fd1282114>\u001b[0m in \u001b[0;36m<cell line: 1>\u001b[0;34m()\u001b[0m\n\u001b[1;32m      2\u001b[0m   \u001b[0mimage_path\u001b[0m \u001b[0;34m=\u001b[0m \u001b[0mos\u001b[0m\u001b[0;34m.\u001b[0m\u001b[0mpath\u001b[0m\u001b[0;34m.\u001b[0m\u001b[0mjoin\u001b[0m\u001b[0;34m(\u001b[0m\u001b[0mBASE_DIR\u001b[0m\u001b[0;34m,\u001b[0m \u001b[0mfilename\u001b[0m\u001b[0;34m)\u001b[0m\u001b[0;34m\u001b[0m\u001b[0;34m\u001b[0m\u001b[0m\n\u001b[1;32m      3\u001b[0m   \u001b[0mtemp\u001b[0m \u001b[0;34m=\u001b[0m \u001b[0mfilename\u001b[0m\u001b[0;34m.\u001b[0m\u001b[0msplit\u001b[0m\u001b[0;34m(\u001b[0m\u001b[0;34m'_'\u001b[0m\u001b[0;34m)\u001b[0m\u001b[0;34m\u001b[0m\u001b[0;34m\u001b[0m\u001b[0m\n\u001b[0;32m----> 4\u001b[0;31m   \u001b[0mage\u001b[0m \u001b[0;34m=\u001b[0m \u001b[0mint\u001b[0m\u001b[0;34m(\u001b[0m\u001b[0mtemp\u001b[0m\u001b[0;34m[\u001b[0m\u001b[0;36m0\u001b[0m\u001b[0;34m]\u001b[0m\u001b[0;34m)\u001b[0m\u001b[0;34m\u001b[0m\u001b[0;34m\u001b[0m\u001b[0m\n\u001b[0m\u001b[1;32m      5\u001b[0m   \u001b[0mgender\u001b[0m \u001b[0;34m=\u001b[0m \u001b[0mint\u001b[0m\u001b[0;34m(\u001b[0m\u001b[0mtemp\u001b[0m\u001b[0;34m[\u001b[0m\u001b[0;36m1\u001b[0m\u001b[0;34m]\u001b[0m\u001b[0;34m)\u001b[0m\u001b[0;34m\u001b[0m\u001b[0;34m\u001b[0m\u001b[0m\n\u001b[1;32m      6\u001b[0m   \u001b[0mimage_paths\u001b[0m\u001b[0;34m.\u001b[0m\u001b[0mappend\u001b[0m\u001b[0;34m(\u001b[0m\u001b[0mimage_path\u001b[0m\u001b[0;34m)\u001b[0m\u001b[0;34m\u001b[0m\u001b[0;34m\u001b[0m\u001b[0m\n",
            "\u001b[0;31mValueError\u001b[0m: invalid literal for int() with base 10: '165.jpeg'"
          ]
        }
      ]
    },
    {
      "cell_type": "code",
      "execution_count": 45,
      "metadata": {
        "id": "HqSTy2XboL-E",
        "colab": {
          "base_uri": "https://localhost:8080/"
        },
        "outputId": "01ed52c2-55bb-4295-adc7-b72230fa6e1b"
      },
      "outputs": [
        {
          "output_type": "stream",
          "name": "stdout",
          "text": [
            "Number of age_labels: 0, Number of gender_labels: 0, Number of image_paths: 0\n"
          ]
        }
      ],
      "source": [
        "print(f'Number of age_labels: {len(age_labels)}, Number of gender_labels: {len(gender_labels)}, Number of image_paths: {len(image_paths)}')"
      ]
    },
    {
      "cell_type": "code",
      "execution_count": 46,
      "metadata": {
        "id": "bzDsNcxTTGvi"
      },
      "outputs": [],
      "source": [
        "gender_mapping = {\n",
        "    1: 'Female',\n",
        "    0: 'Male'\n",
        "}"
      ]
    },
    {
      "cell_type": "code",
      "execution_count": null,
      "metadata": {
        "id": "WAdZRP5ITGvj"
      },
      "outputs": [],
      "source": [
        "import pandas as pd\n",
        "df = pd.DataFrame()\n",
        "df['image_path'], df['gender'] = image_paths, gender_labels\n",
        "df.head(5)"
      ]
    },
    {
      "cell_type": "markdown",
      "metadata": {
        "id": "N6ZQ83XdTGvj"
      },
      "source": [
        "## Exploratory Data Anlysis"
      ]
    },
    {
      "cell_type": "code",
      "execution_count": null,
      "metadata": {
        "id": "sR0V2USdomeO"
      },
      "outputs": [],
      "source": [
        "from PIL import Image\n",
        "\n",
        "rand_index = random.randint(0, len(image_paths))\n",
        "gender = df['gender'][rand_index]\n",
        "IMG = Image.open(df['image_path'][rand_index])\n",
        "plt.title(f'Gender: {gender_mapping[gender]}')\n",
        "plt.axis('off')\n",
        "plt.imshow(IMG)"
      ]
    },
    {
      "cell_type": "code",
      "execution_count": null,
      "metadata": {
        "id": "6b3Y1eOcTGvm"
      },
      "outputs": [],
      "source": [
        " # Age distribution\n",
        " sns.distplot(df['age'])"
      ]
    },
    {
      "cell_type": "markdown",
      "metadata": {
        "id": "PnF9Oz44TGvn"
      },
      "source": [
        "The distribution roughly follows a normal distribution that is slightly skewed to the right with a median of around 27 years. The range is from 0 to 120 years. There are some outliers at the higher end of the distribution."
      ]
    },
    {
      "cell_type": "code",
      "execution_count": null,
      "metadata": {
        "id": "u6wDcXgYTGvn"
      },
      "outputs": [],
      "source": [
        "sns.countplot(df['gender'])"
      ]
    },
    {
      "cell_type": "markdown",
      "metadata": {
        "id": "v5x2kzpeTGvn"
      },
      "source": [
        "The number of samples for females are slightly higher than that of males. However, the dataset is not highly imbalanced."
      ]
    },
    {
      "cell_type": "code",
      "execution_count": null,
      "metadata": {
        "id": "yrpkGgbMTGvn"
      },
      "outputs": [],
      "source": [
        "plt.figure(figsize=(20, 20))\n",
        "samples = df.iloc[0:16]\n",
        "\n",
        "for index, sample, gender in samples.itertuples():\n",
        "    plt.subplot(4, 4, index + 1)\n",
        "    img = load_img(sample)\n",
        "    img = np.array(img)\n",
        "    plt.axis('off')\n",
        "    plt.title(f'Gender: {gender_mapping[gender]}')\n",
        "    plt.imshow(img)"
      ]
    },
    {
      "cell_type": "markdown",
      "metadata": {
        "id": "kvrx1p8DTGvo"
      },
      "source": [
        "## Feature Extraction"
      ]
    },
    {
      "cell_type": "code",
      "execution_count": null,
      "metadata": {
        "id": "gEUU0AMxTGvo"
      },
      "outputs": [],
      "source": [
        "def extract_image_features(images):\n",
        "    features = list()\n",
        "\n",
        "    for image in tqdm(images):\n",
        "        img = load_img(image, grayscale=True)\n",
        "        img = img.resize((128, 128), Image.ANTIALIAS)\n",
        "        img = np.array(img)\n",
        "        features.append(img)\n",
        "\n",
        "    features = np.array(features)\n",
        "    features = features.reshape(len(features), 128, 128, 1)\n",
        "    return features"
      ]
    },
    {
      "cell_type": "code",
      "execution_count": null,
      "metadata": {
        "id": "25aNHgXoTGvo"
      },
      "outputs": [],
      "source": [
        "X = extract_image_features(df['image_path'])"
      ]
    },
    {
      "cell_type": "code",
      "execution_count": null,
      "metadata": {
        "id": "hwqE5ZpHTGvp"
      },
      "outputs": [],
      "source": [
        "X.shape"
      ]
    },
    {
      "cell_type": "code",
      "execution_count": null,
      "metadata": {
        "id": "BkO4Z06hTGvp"
      },
      "outputs": [],
      "source": [
        "X = X / 255.0"
      ]
    },
    {
      "cell_type": "code",
      "execution_count": null,
      "metadata": {
        "id": "KgvGf53uTGvp"
      },
      "outputs": [],
      "source": [
        "y_gender = np.array(df['gender'])\n",
        "y_age = np.array(df['age'])"
      ]
    },
    {
      "cell_type": "code",
      "execution_count": null,
      "metadata": {
        "id": "15f3_4sFTGvq"
      },
      "outputs": [],
      "source": [
        "input_shape = (128, 128, 1)"
      ]
    },
    {
      "cell_type": "code",
      "execution_count": null,
      "metadata": {
        "id": "xm-fYzWDTGvq"
      },
      "outputs": [],
      "source": [
        "inputs = Input((input_shape))\n",
        "conv_1 = Conv2D(32, kernel_size=(3, 3), activation='relu')(inputs)\n",
        "max_1 = MaxPooling2D(pool_size=(2, 2))(conv_1)\n",
        "conv_2 = Conv2D(64, kernel_size=(3, 3), activation='relu')(max_1)\n",
        "max_2 = MaxPooling2D(pool_size=(2, 2))(conv_2)\n",
        "conv_3 = Conv2D(128, kernel_size=(3, 3), activation='relu')(max_2)\n",
        "max_3 = MaxPooling2D(pool_size=(2, 2))(conv_3)\n",
        "conv_4 = Conv2D(256, kernel_size=(3, 3), activation='relu')(max_3)\n",
        "max_4 = MaxPooling2D(pool_size=(2, 2))(conv_4)\n",
        "\n",
        "flatten = Flatten()(max_4)\n",
        "\n",
        "# fully connected layers\n",
        "dense_1 = Dense(256, activation='relu')(flatten)\n",
        "dense_2 = Dense(256, activation='relu')(flatten)\n",
        "\n",
        "dropout_1 = Dropout(0.3)(dense_1)\n",
        "dropout_2 = Dropout(0.3)(dense_2)\n",
        "\n",
        "output_1 = Dense(1, activation='sigmoid', name='gender_out')(dropout_1)\n",
        "output_2 = Dense(1, activation='relu', name='age_out')(dropout_2)\n",
        "\n",
        "model = Model(inputs=[inputs], outputs=[output_1, output_2])\n",
        "\n",
        "model.compile(loss=['binary_crossentropy', 'mae'],\n",
        "              optimizer='adam', metrics=['accuracy'])"
      ]
    },
    {
      "cell_type": "code",
      "execution_count": null,
      "metadata": {
        "id": "EJ4R15wcTGvq"
      },
      "outputs": [],
      "source": [
        "# plot the model\n",
        "from tensorflow.keras.utils import plot_model\n",
        "plot_model(model)"
      ]
    },
    {
      "cell_type": "code",
      "execution_count": null,
      "metadata": {
        "id": "Fn6cb0ddTGvq"
      },
      "outputs": [],
      "source": [
        "history = model.fit(x=X, y=[y_gender, y_age],\n",
        "                    batch_size=32, epochs=50, validation_split=0.2)"
      ]
    },
    {
      "cell_type": "markdown",
      "metadata": {
        "id": "8VcGJLuNTGvq"
      },
      "source": [
        "## Plot Results"
      ]
    },
    {
      "cell_type": "code",
      "execution_count": null,
      "metadata": {
        "id": "qyAH36UGTGvr"
      },
      "outputs": [],
      "source": [
        "# plot results for gender\n",
        "acc = history.history['gender_out_accuracy']\n",
        "val_acc = history.history['val_gender_out_accuracy']\n",
        "epochs = range(len(acc))\n",
        "\n",
        "plt.plot(epochs, acc, 'b', label='Training Accuracy')\n",
        "plt.plot(epochs, val_acc, 'r', label='Validation Accuracy')\n",
        "plt.title('Accuracy Graph')\n",
        "plt.legend()\n",
        "plt.figure()\n",
        "\n",
        "loss = history.history['gender_out_loss']\n",
        "val_loss = history.history['val_gender_out_loss']\n",
        "\n",
        "plt.plot(epochs, loss, 'b', label='Training Loss')\n",
        "plt.plot(epochs, val_loss, 'r', label='Validation Loss')\n",
        "plt.title('Loss Graph')\n",
        "plt.legend()\n",
        "plt.show()"
      ]
    },
    {
      "cell_type": "code",
      "execution_count": null,
      "metadata": {
        "id": "W27MLHPKTGvr"
      },
      "outputs": [],
      "source": [
        "# plot results for age\n",
        "loss = history.history['age_out_loss']\n",
        "val_loss = history.history['val_age_out_loss']\n",
        "epochs = range(len(loss))\n",
        "\n",
        "plt.plot(epochs, loss, 'b', label='Training Loss')\n",
        "plt.plot(epochs, val_loss, 'r', label='Validation Loss')\n",
        "plt.title('Loss Graph')\n",
        "plt.legend()\n",
        "plt.show()"
      ]
    },
    {
      "cell_type": "markdown",
      "metadata": {
        "id": "UUHU1ktbXkFl"
      },
      "source": [
        "## Predicting Test Data"
      ]
    },
    {
      "cell_type": "code",
      "execution_count": null,
      "metadata": {
        "id": "zqb8bWVxXVLb"
      },
      "outputs": [],
      "source": [
        "def get_image_features(image):\n",
        "  img = load_img(image, grayscale=True)\n",
        "  img = img.resize((128, 128), Image.ANTIALIAS)\n",
        "  img = np.array(img)\n",
        "  img = img.reshape(1, 128, 128, 1)\n",
        "  img = img / 255.0\n",
        "  return img"
      ]
    },
    {
      "cell_type": "code",
      "execution_count": null,
      "metadata": {
        "id": "W2Xc1QExYSSR"
      },
      "outputs": [],
      "source": [
        "img_to_test = '/content/drive/MyDrive/Projects/CodeClause Projects/Age and Gender Detection System/test images/1.png'\n",
        "features = get_image_features(img_to_test)\n",
        "pred = model.predict(features)\n",
        "gender = gender_mapping[round(pred[0][0][0])]\n",
        "age = round(pred[1][0][0])\n",
        "\n",
        "plt.title(f'Predicted Age: {age} Predicted Gender: {gender}')\n",
        "plt.axis('off')\n",
        "plt.imshow(np.array(load_img(img_to_test)))"
      ]
    }
  ],
  "metadata": {
    "colab": {
      "provenance": []
    },
    "kernelspec": {
      "display_name": "Python 3",
      "language": "python",
      "name": "python3"
    },
    "language_info": {
      "codemirror_mode": {
        "name": "ipython",
        "version": 3
      },
      "file_extension": ".py",
      "mimetype": "text/x-python",
      "name": "python",
      "nbconvert_exporter": "python",
      "pygments_lexer": "ipython3",
      "version": "3.10.5"
    },
    "vscode": {
      "interpreter": {
        "hash": "7c2737f5cd3eb6a237b7123ce75c641d6f975db18b0c0702ad2055474d78171c"
      }
    },
    "widgets": {
      "application/vnd.jupyter.widget-state+json": {
        "ed4efe83d9894e0d8dbf02567fba2774": {
          "model_module": "@jupyter-widgets/controls",
          "model_name": "HBoxModel",
          "model_module_version": "1.5.0",
          "state": {
            "_dom_classes": [],
            "_model_module": "@jupyter-widgets/controls",
            "_model_module_version": "1.5.0",
            "_model_name": "HBoxModel",
            "_view_count": null,
            "_view_module": "@jupyter-widgets/controls",
            "_view_module_version": "1.5.0",
            "_view_name": "HBoxView",
            "box_style": "",
            "children": [
              "IPY_MODEL_af4ef94f48f04bdfa50446ef81fe776b",
              "IPY_MODEL_eb5efccb5da94fb78a114c92716472d3",
              "IPY_MODEL_a9ca9a9a1d4a499182f28f0160128b56"
            ],
            "layout": "IPY_MODEL_479f8e2293f9413a806cf943dfae1af9"
          }
        },
        "af4ef94f48f04bdfa50446ef81fe776b": {
          "model_module": "@jupyter-widgets/controls",
          "model_name": "HTMLModel",
          "model_module_version": "1.5.0",
          "state": {
            "_dom_classes": [],
            "_model_module": "@jupyter-widgets/controls",
            "_model_module_version": "1.5.0",
            "_model_name": "HTMLModel",
            "_view_count": null,
            "_view_module": "@jupyter-widgets/controls",
            "_view_module_version": "1.5.0",
            "_view_name": "HTMLView",
            "description": "",
            "description_tooltip": null,
            "layout": "IPY_MODEL_52ea9f172fd04f64a1d788bfd383c0ef",
            "placeholder": "​",
            "style": "IPY_MODEL_2901e842af4a4516bd84b31c8469268d",
            "value": "  0%"
          }
        },
        "eb5efccb5da94fb78a114c92716472d3": {
          "model_module": "@jupyter-widgets/controls",
          "model_name": "FloatProgressModel",
          "model_module_version": "1.5.0",
          "state": {
            "_dom_classes": [],
            "_model_module": "@jupyter-widgets/controls",
            "_model_module_version": "1.5.0",
            "_model_name": "FloatProgressModel",
            "_view_count": null,
            "_view_module": "@jupyter-widgets/controls",
            "_view_module_version": "1.5.0",
            "_view_name": "ProgressView",
            "bar_style": "danger",
            "description": "",
            "description_tooltip": null,
            "layout": "IPY_MODEL_6ee742a8d21540858c983e0bf72a8032",
            "max": 580,
            "min": 0,
            "orientation": "horizontal",
            "style": "IPY_MODEL_2de333a6462348a0aee8a8977187fcf1",
            "value": 0
          }
        },
        "a9ca9a9a1d4a499182f28f0160128b56": {
          "model_module": "@jupyter-widgets/controls",
          "model_name": "HTMLModel",
          "model_module_version": "1.5.0",
          "state": {
            "_dom_classes": [],
            "_model_module": "@jupyter-widgets/controls",
            "_model_module_version": "1.5.0",
            "_model_name": "HTMLModel",
            "_view_count": null,
            "_view_module": "@jupyter-widgets/controls",
            "_view_module_version": "1.5.0",
            "_view_name": "HTMLView",
            "description": "",
            "description_tooltip": null,
            "layout": "IPY_MODEL_9f03d19bef0640df8694b7bd80939df4",
            "placeholder": "​",
            "style": "IPY_MODEL_6205a2de5f7b442f88dfd370d7e7af97",
            "value": " 0/580 [00:00&lt;?, ?it/s]"
          }
        },
        "479f8e2293f9413a806cf943dfae1af9": {
          "model_module": "@jupyter-widgets/base",
          "model_name": "LayoutModel",
          "model_module_version": "1.2.0",
          "state": {
            "_model_module": "@jupyter-widgets/base",
            "_model_module_version": "1.2.0",
            "_model_name": "LayoutModel",
            "_view_count": null,
            "_view_module": "@jupyter-widgets/base",
            "_view_module_version": "1.2.0",
            "_view_name": "LayoutView",
            "align_content": null,
            "align_items": null,
            "align_self": null,
            "border": null,
            "bottom": null,
            "display": null,
            "flex": null,
            "flex_flow": null,
            "grid_area": null,
            "grid_auto_columns": null,
            "grid_auto_flow": null,
            "grid_auto_rows": null,
            "grid_column": null,
            "grid_gap": null,
            "grid_row": null,
            "grid_template_areas": null,
            "grid_template_columns": null,
            "grid_template_rows": null,
            "height": null,
            "justify_content": null,
            "justify_items": null,
            "left": null,
            "margin": null,
            "max_height": null,
            "max_width": null,
            "min_height": null,
            "min_width": null,
            "object_fit": null,
            "object_position": null,
            "order": null,
            "overflow": null,
            "overflow_x": null,
            "overflow_y": null,
            "padding": null,
            "right": null,
            "top": null,
            "visibility": null,
            "width": null
          }
        },
        "52ea9f172fd04f64a1d788bfd383c0ef": {
          "model_module": "@jupyter-widgets/base",
          "model_name": "LayoutModel",
          "model_module_version": "1.2.0",
          "state": {
            "_model_module": "@jupyter-widgets/base",
            "_model_module_version": "1.2.0",
            "_model_name": "LayoutModel",
            "_view_count": null,
            "_view_module": "@jupyter-widgets/base",
            "_view_module_version": "1.2.0",
            "_view_name": "LayoutView",
            "align_content": null,
            "align_items": null,
            "align_self": null,
            "border": null,
            "bottom": null,
            "display": null,
            "flex": null,
            "flex_flow": null,
            "grid_area": null,
            "grid_auto_columns": null,
            "grid_auto_flow": null,
            "grid_auto_rows": null,
            "grid_column": null,
            "grid_gap": null,
            "grid_row": null,
            "grid_template_areas": null,
            "grid_template_columns": null,
            "grid_template_rows": null,
            "height": null,
            "justify_content": null,
            "justify_items": null,
            "left": null,
            "margin": null,
            "max_height": null,
            "max_width": null,
            "min_height": null,
            "min_width": null,
            "object_fit": null,
            "object_position": null,
            "order": null,
            "overflow": null,
            "overflow_x": null,
            "overflow_y": null,
            "padding": null,
            "right": null,
            "top": null,
            "visibility": null,
            "width": null
          }
        },
        "2901e842af4a4516bd84b31c8469268d": {
          "model_module": "@jupyter-widgets/controls",
          "model_name": "DescriptionStyleModel",
          "model_module_version": "1.5.0",
          "state": {
            "_model_module": "@jupyter-widgets/controls",
            "_model_module_version": "1.5.0",
            "_model_name": "DescriptionStyleModel",
            "_view_count": null,
            "_view_module": "@jupyter-widgets/base",
            "_view_module_version": "1.2.0",
            "_view_name": "StyleView",
            "description_width": ""
          }
        },
        "6ee742a8d21540858c983e0bf72a8032": {
          "model_module": "@jupyter-widgets/base",
          "model_name": "LayoutModel",
          "model_module_version": "1.2.0",
          "state": {
            "_model_module": "@jupyter-widgets/base",
            "_model_module_version": "1.2.0",
            "_model_name": "LayoutModel",
            "_view_count": null,
            "_view_module": "@jupyter-widgets/base",
            "_view_module_version": "1.2.0",
            "_view_name": "LayoutView",
            "align_content": null,
            "align_items": null,
            "align_self": null,
            "border": null,
            "bottom": null,
            "display": null,
            "flex": null,
            "flex_flow": null,
            "grid_area": null,
            "grid_auto_columns": null,
            "grid_auto_flow": null,
            "grid_auto_rows": null,
            "grid_column": null,
            "grid_gap": null,
            "grid_row": null,
            "grid_template_areas": null,
            "grid_template_columns": null,
            "grid_template_rows": null,
            "height": null,
            "justify_content": null,
            "justify_items": null,
            "left": null,
            "margin": null,
            "max_height": null,
            "max_width": null,
            "min_height": null,
            "min_width": null,
            "object_fit": null,
            "object_position": null,
            "order": null,
            "overflow": null,
            "overflow_x": null,
            "overflow_y": null,
            "padding": null,
            "right": null,
            "top": null,
            "visibility": null,
            "width": null
          }
        },
        "2de333a6462348a0aee8a8977187fcf1": {
          "model_module": "@jupyter-widgets/controls",
          "model_name": "ProgressStyleModel",
          "model_module_version": "1.5.0",
          "state": {
            "_model_module": "@jupyter-widgets/controls",
            "_model_module_version": "1.5.0",
            "_model_name": "ProgressStyleModel",
            "_view_count": null,
            "_view_module": "@jupyter-widgets/base",
            "_view_module_version": "1.2.0",
            "_view_name": "StyleView",
            "bar_color": null,
            "description_width": ""
          }
        },
        "9f03d19bef0640df8694b7bd80939df4": {
          "model_module": "@jupyter-widgets/base",
          "model_name": "LayoutModel",
          "model_module_version": "1.2.0",
          "state": {
            "_model_module": "@jupyter-widgets/base",
            "_model_module_version": "1.2.0",
            "_model_name": "LayoutModel",
            "_view_count": null,
            "_view_module": "@jupyter-widgets/base",
            "_view_module_version": "1.2.0",
            "_view_name": "LayoutView",
            "align_content": null,
            "align_items": null,
            "align_self": null,
            "border": null,
            "bottom": null,
            "display": null,
            "flex": null,
            "flex_flow": null,
            "grid_area": null,
            "grid_auto_columns": null,
            "grid_auto_flow": null,
            "grid_auto_rows": null,
            "grid_column": null,
            "grid_gap": null,
            "grid_row": null,
            "grid_template_areas": null,
            "grid_template_columns": null,
            "grid_template_rows": null,
            "height": null,
            "justify_content": null,
            "justify_items": null,
            "left": null,
            "margin": null,
            "max_height": null,
            "max_width": null,
            "min_height": null,
            "min_width": null,
            "object_fit": null,
            "object_position": null,
            "order": null,
            "overflow": null,
            "overflow_x": null,
            "overflow_y": null,
            "padding": null,
            "right": null,
            "top": null,
            "visibility": null,
            "width": null
          }
        },
        "6205a2de5f7b442f88dfd370d7e7af97": {
          "model_module": "@jupyter-widgets/controls",
          "model_name": "DescriptionStyleModel",
          "model_module_version": "1.5.0",
          "state": {
            "_model_module": "@jupyter-widgets/controls",
            "_model_module_version": "1.5.0",
            "_model_name": "DescriptionStyleModel",
            "_view_count": null,
            "_view_module": "@jupyter-widgets/base",
            "_view_module_version": "1.2.0",
            "_view_name": "StyleView",
            "description_width": ""
          }
        }
      }
    }
  },
  "nbformat": 4,
  "nbformat_minor": 0
}